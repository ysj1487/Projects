{
 "cells": [
  {
   "cell_type": "code",
   "execution_count": 561,
   "metadata": {},
   "outputs": [],
   "source": [
    "import numpy as np\n",
    "import json\n",
    "import urllib.request\n",
    "import codecs\n",
    "from konlpy.tag import Okt\n",
    "import matplotlib.pyplot as plt\n",
    "%matplotlib inline \n",
    "from wordcloud import WordCloud, STOPWORDS\n",
    "from keras.preprocessing.text import Tokenizer\n",
    "from sklearn.feature_extraction.text import TfidfVectorizer\n",
    "from keras.models import Sequential\n",
    "from keras.layers import Flatten, Dense, Embedding, SimpleRNN\n",
    "from nltk import word_tokenize"
   ]
  },
  {
   "cell_type": "markdown",
   "metadata": {},
   "source": [
    "# 형태소 분석"
   ]
  },
  {
   "cell_type": "code",
   "execution_count": 602,
   "metadata": {},
   "outputs": [],
   "source": [
    "def test_sop (infile, outfile):\n",
    "    readFp = open(infile, \"r\", encoding=\"utf-8\")\n",
    "    wakati_file = outfile\n",
    "    writeFp = open(wakati_file, \"w\", encoding=\"utf-8\")\n",
    "\n",
    "    # 형태소 분석\n",
    "    twitter = Okt()\n",
    "    i = 0\n",
    "\n",
    "    while True:\n",
    "        line = readFp.readline()\n",
    "        if not line: break\n",
    "            \n",
    "        malist = twitter.pos(line, norm=True, stem=True)\n",
    "\n",
    "        for word in malist:\n",
    "            if word[1] in [\"Noun\"]:\n",
    "                 writeFp.write(word[0] + \" \")\n",
    "    writeFp.close()"
   ]
  },
  {
   "cell_type": "markdown",
   "metadata": {},
   "source": [
    "# Word 전처리"
   ]
  },
  {
   "cell_type": "code",
   "execution_count": 653,
   "metadata": {},
   "outputs": [
    {
     "data": {
      "text/plain": [
       "60000"
      ]
     },
     "execution_count": 653,
     "metadata": {},
     "output_type": "execute_result"
    }
   ],
   "source": [
    "data_token = []\n",
    "\n",
    "finance = codecs.open(\"finance.m\", \"r\" , encoding=\"utf-8\").read()\n",
    "tokens_f = word_tokenize(finance)\n",
    "for i, j in zip(tokens_f, range(30000)):\n",
    "    data_token.append(i)\n",
    "sports = codecs.open(\"sports.m\", \"r\" , encoding=\"utf-8\").read()\n",
    "tokens_s = word_tokenize(sports)\n",
    "for i, j in zip(tokens_s, range(30000)):\n",
    "    data_token.append(i)\n",
    "len(data_token)"
   ]
  },
  {
   "cell_type": "code",
   "execution_count": 654,
   "metadata": {},
   "outputs": [
    {
     "data": {
      "text/plain": [
       "600"
      ]
     },
     "execution_count": 654,
     "metadata": {},
     "output_type": "execute_result"
    }
   ],
   "source": [
    "# data_token = np.array(data_token)\n",
    "\n",
    "data_split = []\n",
    "for i in range(600):\n",
    "    data_split.append(data_token[i*100 : (i+1)*100])\n",
    "len(data_split)"
   ]
  },
  {
   "cell_type": "code",
   "execution_count": 655,
   "metadata": {},
   "outputs": [],
   "source": [
    "len_word = 100"
   ]
  },
  {
   "cell_type": "code",
   "execution_count": 656,
   "metadata": {},
   "outputs": [],
   "source": [
    "from keras.preprocessing.text import Tokenizer\n",
    "\n",
    "tokenizer.fit_on_texts(data_split)\n",
    "\n",
    "sequences = tokenizer.texts_to_sequences(data_split)\n",
    "# print(\"sequences\",  sequences  )"
   ]
  },
  {
   "cell_type": "code",
   "execution_count": 657,
   "metadata": {},
   "outputs": [],
   "source": [
    "#input_train = tokenizer.texts_to_matrix(data_token, mode='binary')\n",
    "from keras.preprocessing import sequence\n",
    "\n",
    "input_train = sequence.pad_sequences(sequences, maxlen=len_word)"
   ]
  },
  {
   "cell_type": "code",
   "execution_count": 658,
   "metadata": {},
   "outputs": [
    {
     "name": "stdout",
     "output_type": "stream",
     "text": [
      "(600, 100)\n"
     ]
    }
   ],
   "source": [
    "input_train\n",
    "print(input_train.shape)"
   ]
  },
  {
   "cell_type": "markdown",
   "metadata": {},
   "source": [
    "## labeling"
   ]
  },
  {
   "cell_type": "code",
   "execution_count": 659,
   "metadata": {},
   "outputs": [
    {
     "name": "stdout",
     "output_type": "stream",
     "text": [
      "[0, 0, 0, 0, 0, 0, 0, 0, 0, 0, 0, 0, 0, 0, 0, 0, 0, 0, 0, 0, 0, 0, 0, 0, 0, 0, 0, 0, 0, 0, 0, 0, 0, 0, 0, 0, 0, 0, 0, 0, 0, 0, 0, 0, 0, 0, 0, 0, 0, 0, 0, 0, 0, 0, 0, 0, 0, 0, 0, 0, 0, 0, 0, 0, 0, 0, 0, 0, 0, 0, 0, 0, 0, 0, 0, 0, 0, 0, 0, 0, 0, 0, 0, 0, 0, 0, 0, 0, 0, 0, 0, 0, 0, 0, 0, 0, 0, 0, 0, 0, 0, 0, 0, 0, 0, 0, 0, 0, 0, 0, 0, 0, 0, 0, 0, 0, 0, 0, 0, 0, 0, 0, 0, 0, 0, 0, 0, 0, 0, 0, 0, 0, 0, 0, 0, 0, 0, 0, 0, 0, 0, 0, 0, 0, 0, 0, 0, 0, 0, 0, 0, 0, 0, 0, 0, 0, 0, 0, 0, 0, 0, 0, 0, 0, 0, 0, 0, 0, 0, 0, 0, 0, 0, 0, 0, 0, 0, 0, 0, 0, 0, 0, 0, 0, 0, 0, 0, 0, 0, 0, 0, 0, 0, 0, 0, 0, 0, 0, 0, 0, 0, 0, 0, 0, 0, 0, 0, 0, 0, 0, 0, 0, 0, 0, 0, 0, 0, 0, 0, 0, 0, 0, 0, 0, 0, 0, 0, 0, 0, 0, 0, 0, 0, 0, 0, 0, 0, 0, 0, 0, 0, 0, 0, 0, 0, 0, 0, 0, 0, 0, 0, 0, 0, 0, 0, 0, 0, 0, 0, 0, 0, 0, 0, 0, 0, 0, 0, 0, 0, 0, 0, 0, 0, 0, 0, 0, 0, 0, 0, 0, 0, 0, 0, 0, 0, 0, 0, 0, 0, 0, 0, 0, 0, 0, 0, 0, 0, 0, 0, 0, 1, 1, 1, 1, 1, 1, 1, 1, 1, 1, 1, 1, 1, 1, 1, 1, 1, 1, 1, 1, 1, 1, 1, 1, 1, 1, 1, 1, 1, 1, 1, 1, 1, 1, 1, 1, 1, 1, 1, 1, 1, 1, 1, 1, 1, 1, 1, 1, 1, 1, 1, 1, 1, 1, 1, 1, 1, 1, 1, 1, 1, 1, 1, 1, 1, 1, 1, 1, 1, 1, 1, 1, 1, 1, 1, 1, 1, 1, 1, 1, 1, 1, 1, 1, 1, 1, 1, 1, 1, 1, 1, 1, 1, 1, 1, 1, 1, 1, 1, 1, 1, 1, 1, 1, 1, 1, 1, 1, 1, 1, 1, 1, 1, 1, 1, 1, 1, 1, 1, 1, 1, 1, 1, 1, 1, 1, 1, 1, 1, 1, 1, 1, 1, 1, 1, 1, 1, 1, 1, 1, 1, 1, 1, 1, 1, 1, 1, 1, 1, 1, 1, 1, 1, 1, 1, 1, 1, 1, 1, 1, 1, 1, 1, 1, 1, 1, 1, 1, 1, 1, 1, 1, 1, 1, 1, 1, 1, 1, 1, 1, 1, 1, 1, 1, 1, 1, 1, 1, 1, 1, 1, 1, 1, 1, 1, 1, 1, 1, 1, 1, 1, 1, 1, 1, 1, 1, 1, 1, 1, 1, 1, 1, 1, 1, 1, 1, 1, 1, 1, 1, 1, 1, 1, 1, 1, 1, 1, 1, 1, 1, 1, 1, 1, 1, 1, 1, 1, 1, 1, 1, 1, 1, 1, 1, 1, 1, 1, 1, 1, 1, 1, 1, 1, 1, 1, 1, 1, 1, 1, 1, 1, 1, 1, 1, 1, 1, 1, 1, 1, 1, 1, 1, 1, 1, 1, 1, 1, 1, 1, 1, 1, 1, 1, 1, 1, 1, 1, 1, 1, 1, 1, 1, 1, 1, 1, 1, 1, 1, 1, 1]\n"
     ]
    }
   ],
   "source": [
    "y1 = [0] * 300\n",
    "y2 = [1] * 300\n",
    "y3 = y1 + y2\n",
    "print(y3)"
   ]
  },
  {
   "cell_type": "code",
   "execution_count": 660,
   "metadata": {},
   "outputs": [
    {
     "name": "stdout",
     "output_type": "stream",
     "text": [
      "(600, 2)\n"
     ]
    }
   ],
   "source": [
    "from keras.utils import np_utils\n",
    "\n",
    "y_label = np.array(y3)\n",
    "y_label = np_utils.to_categorical(y_label, 2, dtype = \"float32\")\n",
    "\n",
    "print(y_label.shape)"
   ]
  },
  {
   "cell_type": "markdown",
   "metadata": {},
   "source": [
    "## Model"
   ]
  },
  {
   "cell_type": "code",
   "execution_count": 661,
   "metadata": {},
   "outputs": [],
   "source": [
    "from keras.layers import Dense, LSTM, Embedding\n",
    "\n",
    "max_features = 3000\n",
    "\n",
    "model = Sequential()\n",
    "model.add(Embedding(max_features, 100))\n",
    "model.add(SimpleRNN(64))\n",
    "model.add(Dense(2, activation='softmax'))\n",
    "\n",
    "model.compile(optimizer='rmsprop', loss='categorical_crossentropy', metrics=['acc'])"
   ]
  },
  {
   "cell_type": "markdown",
   "metadata": {},
   "source": [
    "## Train"
   ]
  },
  {
   "cell_type": "code",
   "execution_count": 662,
   "metadata": {},
   "outputs": [
    {
     "name": "stdout",
     "output_type": "stream",
     "text": [
      "Train on 480 samples, validate on 120 samples\n",
      "Epoch 1/10\n",
      "480/480 [==============================] - 8s 16ms/step - loss: 0.6663 - acc: 0.5979 - val_loss: 0.9246 - val_acc: 0.0083\n",
      "Epoch 2/10\n",
      "480/480 [==============================] - 0s 576us/step - loss: 0.4571 - acc: 0.8583 - val_loss: 0.8317 - val_acc: 0.3667\n",
      "Epoch 3/10\n",
      "480/480 [==============================] - 0s 535us/step - loss: 0.2474 - acc: 0.9896 - val_loss: 0.9124 - val_acc: 0.3500\n",
      "Epoch 4/10\n",
      "480/480 [==============================] - 0s 591us/step - loss: 0.1464 - acc: 0.9938 - val_loss: 0.6557 - val_acc: 0.6417\n",
      "Epoch 5/10\n",
      "480/480 [==============================] - 0s 492us/step - loss: 0.0661 - acc: 1.0000 - val_loss: 0.7191 - val_acc: 0.5667\n",
      "Epoch 6/10\n",
      "480/480 [==============================] - 0s 542us/step - loss: 0.0404 - acc: 1.0000 - val_loss: 0.6392 - val_acc: 0.6667\n",
      "Epoch 7/10\n",
      "480/480 [==============================] - 0s 488us/step - loss: 0.0289 - acc: 1.0000 - val_loss: 0.8361 - val_acc: 0.5083\n",
      "Epoch 8/10\n",
      "480/480 [==============================] - 0s 566us/step - loss: 0.0180 - acc: 1.0000 - val_loss: 0.8602 - val_acc: 0.4917\n",
      "Epoch 9/10\n",
      "480/480 [==============================] - 0s 571us/step - loss: 0.0136 - acc: 1.0000 - val_loss: 0.9974 - val_acc: 0.4583\n",
      "Epoch 10/10\n",
      "480/480 [==============================] - 0s 586us/step - loss: 0.0097 - acc: 1.0000 - val_loss: 0.8201 - val_acc: 0.5333\n"
     ]
    }
   ],
   "source": [
    "history = model.fit(input_train, y_label,\n",
    "                   epochs = 10,\n",
    "                   batch_size = 120,\n",
    "                   validation_split = 0.2) "
   ]
  },
  {
   "cell_type": "markdown",
   "metadata": {},
   "source": [
    "## Best param"
   ]
  },
  {
   "cell_type": "code",
   "execution_count": 663,
   "metadata": {},
   "outputs": [
    {
     "data": {
      "image/png": "[encoded data removed]",
      "text/plain": [
       "<Figure size 432x288 with 1 Axes>"
      ]
     },
     "metadata": {
      "needs_background": "light"
     },
     "output_type": "display_data"
    },
    {
     "data": {
      "image/png": "[encoded data removed]",
      "text/plain": [
       "<Figure size 432x288 with 1 Axes>"
      ]
     },
     "metadata": {
      "needs_background": "light"
     },
     "output_type": "display_data"
    }
   ],
   "source": [
    "acc = history.history['acc']\n",
    "val_acc = history.history['val_acc']\n",
    "loss = history.history['loss']\n",
    "val_loss = history.history['val_loss']\n",
    "epochs = range(1, len(acc) + 1)\n",
    "\n",
    "plt.plot(epochs, acc, 'bo', label='Training acc')\n",
    "plt.plot(epochs, val_acc, 'b', label='Validation acc')\n",
    "plt.title('Training and validation accuracy')\n",
    "plt.legend()\n",
    "plt.figure()\n",
    "\n",
    "plt.plot(epochs, loss, 'bo', label='Training loss')\n",
    "plt.plot(epochs, val_loss, 'b', label='Validation loss')\n",
    "plt.title('Training and validation loss')\n",
    "plt.legend()\n",
    "plt.show()"
   ]
  },
  {
   "cell_type": "markdown",
   "metadata": {},
   "source": [
    "## Test"
   ]
  },
  {
   "cell_type": "code",
   "execution_count": 667,
   "metadata": {},
   "outputs": [
    {
     "name": "stdout",
     "output_type": "stream",
     "text": [
      "['정부', '달', '전', '민간', '택지', '아파트', '도', '분양', '상한', '제', '확대', '뜻', '세부', '안이', '오늘', '오전', '발표', '최근', '등세', '주택', '시장', '반응', '주목']\n"
     ]
    }
   ],
   "source": [
    "twitter = Okt()\n",
    "\n",
    "test_data =\"\"\"정부가 한달 전부터 민간택지 아파트로도 분양가 상한제를 확대하겠다는 뜻을 밝혔는데요 세부안이 오늘 오전 발표됩 최근 반등세를 나타내고 있는 주택 시장이 어떤 반응을 보일지 주목됩니다. \"\"\"\n",
    "malist = twitter.pos(test_data, norm=True, stem=True)\n",
    "test_data_list = []\n",
    "for word in malist:\n",
    "    if word[1] in [\"Noun\"]:\n",
    "        test_data_list.append(word[0])\n",
    "print(test_data_list)"
   ]
  },
  {
   "cell_type": "code",
   "execution_count": 665,
   "metadata": {},
   "outputs": [
    {
     "name": "stdout",
     "output_type": "stream",
     "text": [
      "['오늘', '경기', '유벤투스', '승리', '승점', '점', '더', '경기', '심판', '판이', '판결', '대해', '관중', '크게', '아쉬움', '표']\n"
     ]
    }
   ],
   "source": [
    "twitter = Okt()\n",
    "\n",
    "test_data =\"\"\"오늘 경기는 유벤투스의 승리로 승점 1점 더 챙기게 되었습니다 경기중 심판의 오판이 있던 판결에 대해 관중들은 크게 아쉬움을 표했습니다.\"\"\"\n",
    "malist = twitter.pos(test_data, norm=True, stem=True)\n",
    "test_data_list = []\n",
    "for word in malist:\n",
    "    if word[1] in [\"Noun\"]:\n",
    "        test_data_list.append(word[0])\n",
    "print(test_data_list)"
   ]
  },
  {
   "cell_type": "code",
   "execution_count": 668,
   "metadata": {},
   "outputs": [
    {
     "name": "stdout",
     "output_type": "stream",
     "text": [
      "[[0.17349909 0.8265009 ]\n",
      " [0.16455127 0.83544874]\n",
      " [0.16537188 0.83462805]\n",
      " [0.18022333 0.81977665]\n",
      " [0.18273449 0.8172655 ]\n",
      " [0.1892914  0.81070864]\n",
      " [0.17515075 0.82484925]\n",
      " [0.17824146 0.8217585 ]\n",
      " [0.17824903 0.82175094]\n",
      " [0.17892449 0.8210755 ]\n",
      " [0.19349663 0.8065034 ]\n",
      " [0.17400685 0.8259931 ]\n",
      " [0.17400685 0.8259931 ]\n",
      " [0.17400685 0.8259931 ]\n",
      " [0.18452916 0.8154708 ]\n",
      " [0.2102616  0.7897384 ]\n",
      " [0.16695292 0.83304715]\n",
      " [0.19712816 0.8028718 ]\n",
      " [0.17400685 0.8259931 ]\n",
      " [0.1909229  0.80907714]\n",
      " [0.20669155 0.7933084 ]\n",
      " [0.17400685 0.8259931 ]\n",
      " [0.20359547 0.79640454]]\n"
     ]
    }
   ],
   "source": [
    "data_token_test = []\n",
    "for i in range(len(test_data_list)):\n",
    "#     tokens = word_tokenize(test_data_list[i])\n",
    "#     data_token_test.append(tokens)\n",
    "    data_token_test.append(test_data_list[i])\n",
    "data_token_test = np.array(data_token_test)\n",
    "\n",
    "tokenizer.fit_on_texts(data_token_test)\n",
    "sequences = tokenizer.texts_to_sequences(data_token_test)\n",
    "test_data_sequence = sequence.pad_sequences(sequences, maxlen=len_word)\n",
    "\n",
    "a = model.predict(test_data_sequence)\n",
    "print(a)"
   ]
  },
  {
   "cell_type": "code",
   "execution_count": 650,
   "metadata": {},
   "outputs": [],
   "source": [
    "# tokenizer = Tokenizer(num_words=len_word)\n",
    "# tokenizer.fit_on_texts(data_split)\n",
    "\n",
    "# sequences = tokenizer.texts_to_sequences(data_split)"
   ]
  },
  {
   "cell_type": "code",
   "execution_count": null,
   "metadata": {},
   "outputs": [],
   "source": []
  },
  {
   "cell_type": "code",
   "execution_count": null,
   "metadata": {},
   "outputs": [],
   "source": []
  }
 ],
 "metadata": {
  "kernelspec": {
   "display_name": "Python 3",
   "language": "python",
   "name": "python3"
  },
  "language_info": {
   "codemirror_mode": {
    "name": "ipython",
    "version": 3
   },
   "file_extension": ".py",
   "mimetype": "text/x-python",
   "name": "python",
   "nbconvert_exporter": "python",
   "pygments_lexer": "ipython3",
   "version": "3.7.3"
  }
 },
 "nbformat": 4,
 "nbformat_minor": 2
}
